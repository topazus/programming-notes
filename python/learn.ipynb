{
 "cells": [
  {
   "cell_type": "code",
   "execution_count": null,
   "metadata": {},
   "outputs": [],
   "source": [
    "import json\n",
    "import urllib3\n",
    "import packaging.version\n",
    "import requests\n",
    "import sys\n",
    "import fileinput\n",
    "reponame='python/cpython'\n",
    "filename='test.spec'\n",
    "\n",
    "# use urllib3\n",
    "def get_latest_version(reponame:str)->str:\n",
    "    http=urllib3.PoolManager()\n",
    "    r=http.request('GET',f'https://api.github.com/repos/{reponame}/releases/latest')\n",
    "    if r.status==200:\n",
    "        data=json.loads(r.data.decode('utf-8'))\n",
    "        return data['tag_name'][1:]\n",
    "    else:\n",
    "        r=http.request('GET',f'https://api.github.com/repos/{reponame}/tags?per_page=10')\n",
    "        data=json.loads(r.data.decode('utf-8'))\n",
    "        return data[0]['name'][1:]\n",
    "\n",
    "# use requests\n",
    "def get_latest_version2(reponame:str)->str:\n",
    "    r=requests.get(f'https://api.github.com/repos/{reponame}/releases/latest')\n",
    "    if r.status_code==200:\n",
    "        data=json.loads(r.text)\n",
    "        return data['tag_name'][1:]\n",
    "    else:\n",
    "        r=requests.get(f'https://api.github.com/repos/{reponame}/tags?per_page=10')\n",
    "        data=json.loads(r.text)\n",
    "        return data[0]['name'][1:]\n",
    "\n",
    "# get old version in the file\n",
    "def get_old_version(filename:str)->str:\n",
    "    if os.path.exists(filename):\n",
    "        with open(filename,'r') as f:\n",
    "            lines=f.readlines()\n",
    "        for line in lines:\n",
    "            if line.startswith('Version'):\n",
    "                return line.split()[-1].strip()\n",
    "\n",
    "\n",
    "old_version_str=get_old_version(filename)\n",
    "old_version=packaging.version.parse(old_version_str)\n",
    "new_version_str=get_latest_version(reponame)\n",
    "new_version=packaging.version.Version(new_version_str)\n",
    "\n",
    "# check version is needed to be changed\n",
    "def check_version_change(old_version:packaging.version.Version,new_version:packaging.version.Version)->bool:\n",
    "    if old_version<new_version:\n",
    "        return True\n",
    "    else:\n",
    "        return False\n",
    "\n",
    "def check_version_change2(old_version:str,new_version:str)->bool:\n",
    "    if packaging.version.parse(old_version)<packaging.version.parse(new_version):\n",
    "        return True\n",
    "    else:\n",
    "        return False\n",
    "\n",
    "\n",
    "# write file\n",
    "def modify_version()->None:\n",
    "        with open(filename,'r') as f:\n",
    "            lines=f.readlines()\n",
    "        for i,line in enumerate(lines):\n",
    "            if line.startswith('Version'):\n",
    "                lines[i]=line.replace(old_version_str,new_version_str)\n",
    "        with open(filename,'w') as f:\n",
    "            f.writelines(lines)\n",
    "\n",
    "\n",
    "def modify_version2()->None:\n",
    "        for line in fileinput.input(filename,inplace=True):\n",
    "            if line.startswith('Version'):\n",
    "                line=line.replace(old_version_str,new_version_str)\n",
    "                print(line,end='')\n",
    "            else:\n",
    "                print(line,end='')\n",
    "\n",
    "\n",
    "def modify_version3()->None:\n",
    "        for line in fileinput.input(filename,inplace=True):\n",
    "            if line.startswith('Version'):\n",
    "                line=line.replace(old_version_str,new_version_str)\n",
    "            print(line,end='')\n",
    "\n",
    "\n",
    "def modify_version4()->None:\n",
    "        for line in fileinput.input(filename,inplace=True):\n",
    "            if line.startswith('Version'):\n",
    "                line=line.replace(old_version_str,new_version_str)\n",
    "            sys.stdout.write(line)\n",
    "\n",
    "\n",
    "need_modify=check_version_change(old_version,new_version)\n",
    "if need_modify:\n",
    "    modify_version()"
   ]
  },
  {
   "cell_type": "code",
   "execution_count": null,
   "metadata": {},
   "outputs": [],
   "source": [
    "import json\n",
    "import urllib3\n",
    "reponame='python/cpython'\n",
    "http=urllib3.PoolManager()\n",
    "r=http.request('GET',f'https://api.github.com/repos/{reponame}/releases/latest')\n",
    "r.status"
   ]
  },
  {
   "cell_type": "code",
   "execution_count": null,
   "metadata": {},
   "outputs": [],
   "source": [
    "dirpath='/home/ruby'\n",
    "files=[f for f in os.listdir(dirpath) if os.path.isfile(os.path.join(dirpath,f))]\n",
    "print(files)"
   ]
  },
  {
   "cell_type": "code",
   "execution_count": null,
   "metadata": {},
   "outputs": [],
   "source": [
    "import os\n",
    "for dirpath,dirnames,filenames in os.walk('/home/ruby/elixir-learn'):\n",
    "    print(dirpath)\n",
    "    print(dirnames)\n",
    "    print(filenames)\n",
    "    # calculate the size of all files in the directory\n",
    "    print(sum([os.path.getsize(os.path.join(dirpath,f)) for f in filenames]))\n",
    "    break\n",
    "\n",
    "for dirpath,dirnames,filenames in os.walk('/home/ruby/elixir-learn'):\n",
    "    print(dirpath)\n",
    "    print(dirnames)\n",
    "    print(filenames)\n",
    "    # calculate the size of all files in the directory\n",
    "    print(sum([os.path.getsize(os.path.join(dirpath,f)) for f in filenames]))\n",
    "\n",
    "print(next(os.walk('/home/ruby')))\n",
    "# dirpath\n",
    "print(next(os.walk('/home/ruby'))[0])\n",
    "# dirnames\n",
    "print(next(os.walk('/home/ruby'))[1])\n",
    "# filenames\n",
    "print(next(os.walk('/home/ruby'))[2])"
   ]
  },
  {
   "cell_type": "code",
   "execution_count": null,
   "metadata": {},
   "outputs": [],
   "source": [
    "import os\n",
    "\n",
    "# traverse the directory, and list directories as dirs and files as files\n",
    "for dirpath,dirnames,filenames in os.walk('/home/ruby/fedora-copr'):\n",
    "    # os.sep is '/' in linux, '\\' in windows\n",
    "    path=dirpath.split(os.sep)\n",
    "    print((len(path)-1) * '--',os.path.basename(dirpath))\n",
    "    for file in filenames:\n",
    "        print(len(path) * '--',file)\n"
   ]
  },
  {
   "cell_type": "code",
   "execution_count": null,
   "metadata": {},
   "outputs": [],
   "source": [
    "import pathlib\n",
    "import os\n",
    "def print_files_in_dir(dirpath:str)->None:\n",
    "    for dirpath,dirnames,filenames in os.walk(dirpath):\n",
    "        path=pathlib.Path(dirpath)\n",
    "        print(path)\n",
    "        for file in filenames:\n",
    "            print(os.path.join(dirpath,file))\n",
    "\n",
    "print_files_in_dir('/home/ruby/elixir-learn')"
   ]
  },
  {
   "cell_type": "code",
   "execution_count": null,
   "metadata": {},
   "outputs": [],
   "source": [
    "import pathlib\n",
    "import os\n",
    "\n",
    "\n",
    "def print_files_in_dir(dirpath:str,level=0)->None:\n",
    "    def print_indentation(path:str,level)->None:\n",
    "        if pathlib.Path(path).is_file:\n",
    "            print('├' + '--' * 2 + '[' + path + ']')\n",
    "        else:\n",
    "            print('--' * level+path)\n",
    "    print_indentation(pathlib.Path(dirpath).name,level)\n",
    "    for f in pathlib.Path(dirpath).iterdir():\n",
    "        if f.is_file():\n",
    "            print_indentation(f.name,level+1)\n",
    "        else:\n",
    "            print_files_in_dir(f,level+1)\n",
    "            \n",
    "\n",
    "print_files_in_dir('/home/ruby/elixir-learn')"
   ]
  },
  {
   "cell_type": "code",
   "execution_count": null,
   "metadata": {},
   "outputs": [],
   "source": [
    "import os\n",
    "for root,dirs,files in os.walk('.'):\n",
    "    print(root)\n",
    "    print(dirs)\n",
    "    print(files)"
   ]
  },
  {
   "cell_type": "code",
   "execution_count": 9,
   "metadata": {},
   "outputs": [
    {
     "data": {
      "text/plain": [
       "{'a': 2}"
      ]
     },
     "execution_count": 9,
     "metadata": {},
     "output_type": "execute_result"
    }
   ],
   "source": [
    "map={'a':1}\n",
    "map['a']+=1\n",
    "map"
   ]
  },
  {
   "cell_type": "code",
   "execution_count": null,
   "metadata": {},
   "outputs": [],
   "source": [
    "a=1\n",
    "str(a).encode('utf-8').decode('utf-8')==chr(1)"
   ]
  },
  {
   "cell_type": "code",
   "execution_count": null,
   "metadata": {},
   "outputs": [],
   "source": [
    "a=chr(1)\n",
    "print(a)"
   ]
  },
  {
   "cell_type": "code",
   "execution_count": null,
   "metadata": {},
   "outputs": [],
   "source": []
  }
 ],
 "metadata": {
  "interpreter": {
   "hash": "1ab2752674f5d7f37f405f3264d7038ac26b8ea9f4a1a371e33fd5280c4f7ae6"
  },
  "kernelspec": {
   "display_name": "Python 3.10.4 ('py3.10')",
   "language": "python",
   "name": "python3"
  },
  "language_info": {
   "codemirror_mode": {
    "name": "ipython",
    "version": 3
   },
   "file_extension": ".py",
   "mimetype": "text/x-python",
   "name": "python",
   "nbconvert_exporter": "python",
   "pygments_lexer": "ipython3",
   "version": "3.10.4"
  },
  "orig_nbformat": 4
 },
 "nbformat": 4,
 "nbformat_minor": 2
}
